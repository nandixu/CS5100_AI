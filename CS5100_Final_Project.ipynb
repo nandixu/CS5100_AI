{
 "cells": [
  {
   "cell_type": "markdown",
   "metadata": {},
   "source": [
    "# CS5100 Final Project"
   ]
  },
  {
   "attachments": {},
   "cell_type": "markdown",
   "metadata": {},
   "source": [
    "Name: Nandi Xu\n",
    "\n",
    "Goal: This assignment will allow you to apply your knowledge of machine learning that you have aquired in this course on a real-world dataset of your choosing per the assignment specifications.\n",
    "\n",
    "Complete the notebook and demonstrate your mastery of the topic."
   ]
  },
  {
   "cell_type": "markdown",
   "metadata": {},
   "source": [
    "## Prerequisites\n",
    "\n",
    "In this section describe any packages that need to be installed or any additional setup that needs to take place before trying to run code."
   ]
  },
  {
   "attachments": {},
   "cell_type": "markdown",
   "metadata": {},
   "source": [
    "The key package used is scikit learn, which provides basic machine learning models including SVC and Perceptron. matplotlib helps to visualize the result by plotting out the confusion matrix, and skimage helps import and resize the images to desired sizes."
   ]
  },
  {
   "cell_type": "code",
   "execution_count": 15,
   "metadata": {},
   "outputs": [],
   "source": [
    "import numpy as np\n",
    "import matplotlib.pyplot as plt\n",
    "\n",
    "from sklearn import linear_model\n",
    "from sklearn import datasets\n",
    "from sklearn.model_selection import train_test_split, GridSearchCV, cross_val_score\n",
    "\n",
    "from sklearn.utils import shuffle\n",
    "from sklearn.pipeline import make_pipeline\n",
    "from sklearn.pipeline import Pipeline\n",
    "from sklearn.preprocessing import StandardScaler\n",
    "from sklearn import metrics\n",
    "from sklearn.metrics import confusion_matrix, ConfusionMatrixDisplay\n",
    "from sklearn.svm import SVC\n",
    "from sklearn.decomposition import PCA\n",
    "\n",
    "import os\n",
    "\n",
    "from PIL import Image\n",
    "\n",
    "import skimage.io as io\n",
    "from skimage.io import imread\n",
    "from skimage.transform import resize"
   ]
  },
  {
   "cell_type": "markdown",
   "metadata": {},
   "source": [
    "## Problem\n",
    "\n",
    "In this section, you will explain the problem you are trying to solve, the things you are trying to learn, and how you want to visualize the results."
   ]
  },
  {
   "attachments": {},
   "cell_type": "markdown",
   "metadata": {},
   "source": [
    "In the field of biomedical engineering, researchers are facing a challenge in identifying certain viruses among cells observed under a microscope. These viruses are characterized by specific shapes, and current methods for detection are limited in their ability to accurately identify them. However, with the development of a machine learning model capable of recognizing any shape given as input, this problem can be solved. Such a model would allow for the precise and efficient identification of the target viruses, leading to more effective treatments and improved patient outcomes.\n",
    "\n",
    "I start with a simple image classification application, which could identify circles and triangles. With this model, if there are enough amount of virus images, humans can easily recognize these virus using this model."
   ]
  },
  {
   "cell_type": "markdown",
   "metadata": {},
   "source": [
    "## Data\n",
    "\n",
    "In this section you will describe the dataset (corpus) you are using. Explain who collected the data, how they did it, the manner in which it was stored, the way you accessed the data, what steps you will have to do to clean it, and so on. Provide any relavent details."
   ]
  },
  {
   "attachments": {},
   "cell_type": "markdown",
   "metadata": {},
   "source": [
    "The data model is downloaded from kaggle and it includes 7440 pictures of triangles and circles, seperated into different folders. The data was accessed by os and saved into an array called images, with another array called labels. In this model, circles are labeled as 0 and triangles are labeled as 1. "
   ]
  },
  {
   "cell_type": "code",
   "execution_count": 16,
   "metadata": {},
   "outputs": [],
   "source": [
    "circle_path = 'data/circle/'\n",
    "triangle_path = 'data/triangle/'\n",
    "\n",
    "images = []\n",
    "labels = []\n",
    "\n",
    "for file in os.listdir(circle_path):\n",
    "    tep = io.imread(os.path.join(circle_path,file), as_gray=True).reshape(1,-1)\n",
    "    images.append(tep)\n",
    "    labels.append(0)\n",
    "\n",
    "for file in os.listdir(triangle_path):\n",
    "    tep = io.imread(os.path.join(triangle_path,file), as_gray=True).reshape(1,-1)\n",
    "    images.append(tep)\n",
    "    labels.append(1)\n"
   ]
  },
  {
   "cell_type": "markdown",
   "metadata": {},
   "source": [
    "## Cleaning the Data\n",
    "\n",
    "Add the code to download/query you data. If your data is already downloaded, then load it into your program here. Then add the code to clean it."
   ]
  },
  {
   "attachments": {},
   "cell_type": "markdown",
   "metadata": {},
   "source": [
    "Each of the image is reshaped into 200 by 200 pixels, randomly shuffled. Also, each image is flattened into an array of 40000 numbers, and there will be 7440 of these arrays. Then 75% of the data is splitted into training data and 25% as testing data."
   ]
  },
  {
   "cell_type": "code",
   "execution_count": null,
   "metadata": {},
   "outputs": [],
   "source": [
    "len(labels)\n",
    "x = np.concatenate(images, axis = 0)\n",
    "print(labels[0])\n",
    "plt.imshow(x[7000].reshape(200,200))"
   ]
  },
  {
   "cell_type": "code",
   "execution_count": 4,
   "metadata": {},
   "outputs": [],
   "source": [
    "x, y = shuffle(x, labels, random_state=10)"
   ]
  },
  {
   "cell_type": "code",
   "execution_count": 5,
   "metadata": {},
   "outputs": [
    {
     "data": {
      "text/plain": [
       "(5580, 40000)"
      ]
     },
     "execution_count": 5,
     "metadata": {},
     "output_type": "execute_result"
    }
   ],
   "source": [
    "x_train, x_test, y_train, y_test = train_test_split(x, y, random_state=0)\n",
    "\n",
    "x_train.shape"
   ]
  },
  {
   "cell_type": "markdown",
   "metadata": {},
   "source": [
    "## Learning Model\n",
    "\n",
    "In detailed and documented Python, walk the user through your code below similar to the Twitter assignment."
   ]
  },
  {
   "attachments": {},
   "cell_type": "markdown",
   "metadata": {},
   "source": [
    "In this section, I am comparing the performance of two machine learning model, perceptron and SVC. The datapipe line includes two steps, the first step is to preprocessing the data by using StandardScaler, which helps to improve the performance and accuracy of the machine learning models. Then build the model by calling perceptron and SVC, which default hyperparameters. \n",
    "\n",
    "QuickNote:\n",
    "The StandardScaler algorithm works by calculating the mean and standard deviation of each feature in the dataset, and then scaling the feature values by subtracting the mean and dividing by the standard deviation. This ensures that the transformed data has a mean of 0 and a standard deviation of 1, which makes it easier for machine learning models to process and compare different features.\n",
    "\n",
    "The SVC algorithm works by mapping the input features into a high-dimensional space and finding the hyperplane that separates the data points in this space. This process is called kernelization and is one of the key features of SVC. Kernel functions such as linear, polynomial, and radial basis functions (RBF) are commonly used to map the data into a higher-dimensional space."
   ]
  },
  {
   "cell_type": "code",
   "execution_count": null,
   "metadata": {},
   "outputs": [],
   "source": [
    "clf = make_pipeline(StandardScaler(),\n",
    "                    linear_model.Perceptron(tol = 1e-3, random_state=12))\n",
    "\n",
    "clf.fit(x_train, y_train)"
   ]
  },
  {
   "cell_type": "code",
   "execution_count": 6,
   "metadata": {},
   "outputs": [
    {
     "data": {
      "text/html": [
       "<style>#sk-container-id-1 {color: black;background-color: white;}#sk-container-id-1 pre{padding: 0;}#sk-container-id-1 div.sk-toggleable {background-color: white;}#sk-container-id-1 label.sk-toggleable__label {cursor: pointer;display: block;width: 100%;margin-bottom: 0;padding: 0.3em;box-sizing: border-box;text-align: center;}#sk-container-id-1 label.sk-toggleable__label-arrow:before {content: \"▸\";float: left;margin-right: 0.25em;color: #696969;}#sk-container-id-1 label.sk-toggleable__label-arrow:hover:before {color: black;}#sk-container-id-1 div.sk-estimator:hover label.sk-toggleable__label-arrow:before {color: black;}#sk-container-id-1 div.sk-toggleable__content {max-height: 0;max-width: 0;overflow: hidden;text-align: left;background-color: #f0f8ff;}#sk-container-id-1 div.sk-toggleable__content pre {margin: 0.2em;color: black;border-radius: 0.25em;background-color: #f0f8ff;}#sk-container-id-1 input.sk-toggleable__control:checked~div.sk-toggleable__content {max-height: 200px;max-width: 100%;overflow: auto;}#sk-container-id-1 input.sk-toggleable__control:checked~label.sk-toggleable__label-arrow:before {content: \"▾\";}#sk-container-id-1 div.sk-estimator input.sk-toggleable__control:checked~label.sk-toggleable__label {background-color: #d4ebff;}#sk-container-id-1 div.sk-label input.sk-toggleable__control:checked~label.sk-toggleable__label {background-color: #d4ebff;}#sk-container-id-1 input.sk-hidden--visually {border: 0;clip: rect(1px 1px 1px 1px);clip: rect(1px, 1px, 1px, 1px);height: 1px;margin: -1px;overflow: hidden;padding: 0;position: absolute;width: 1px;}#sk-container-id-1 div.sk-estimator {font-family: monospace;background-color: #f0f8ff;border: 1px dotted black;border-radius: 0.25em;box-sizing: border-box;margin-bottom: 0.5em;}#sk-container-id-1 div.sk-estimator:hover {background-color: #d4ebff;}#sk-container-id-1 div.sk-parallel-item::after {content: \"\";width: 100%;border-bottom: 1px solid gray;flex-grow: 1;}#sk-container-id-1 div.sk-label:hover label.sk-toggleable__label {background-color: #d4ebff;}#sk-container-id-1 div.sk-serial::before {content: \"\";position: absolute;border-left: 1px solid gray;box-sizing: border-box;top: 0;bottom: 0;left: 50%;z-index: 0;}#sk-container-id-1 div.sk-serial {display: flex;flex-direction: column;align-items: center;background-color: white;padding-right: 0.2em;padding-left: 0.2em;position: relative;}#sk-container-id-1 div.sk-item {position: relative;z-index: 1;}#sk-container-id-1 div.sk-parallel {display: flex;align-items: stretch;justify-content: center;background-color: white;position: relative;}#sk-container-id-1 div.sk-item::before, #sk-container-id-1 div.sk-parallel-item::before {content: \"\";position: absolute;border-left: 1px solid gray;box-sizing: border-box;top: 0;bottom: 0;left: 50%;z-index: -1;}#sk-container-id-1 div.sk-parallel-item {display: flex;flex-direction: column;z-index: 1;position: relative;background-color: white;}#sk-container-id-1 div.sk-parallel-item:first-child::after {align-self: flex-end;width: 50%;}#sk-container-id-1 div.sk-parallel-item:last-child::after {align-self: flex-start;width: 50%;}#sk-container-id-1 div.sk-parallel-item:only-child::after {width: 0;}#sk-container-id-1 div.sk-dashed-wrapped {border: 1px dashed gray;margin: 0 0.4em 0.5em 0.4em;box-sizing: border-box;padding-bottom: 0.4em;background-color: white;}#sk-container-id-1 div.sk-label label {font-family: monospace;font-weight: bold;display: inline-block;line-height: 1.2em;}#sk-container-id-1 div.sk-label-container {text-align: center;}#sk-container-id-1 div.sk-container {/* jupyter's `normalize.less` sets `[hidden] { display: none; }` but bootstrap.min.css set `[hidden] { display: none !important; }` so we also need the `!important` here to be able to override the default hidden behavior on the sphinx rendered scikit-learn.org. See: https://github.com/scikit-learn/scikit-learn/issues/21755 */display: inline-block !important;position: relative;}#sk-container-id-1 div.sk-text-repr-fallback {display: none;}</style><div id=\"sk-container-id-1\" class=\"sk-top-container\"><div class=\"sk-text-repr-fallback\"><pre>Pipeline(steps=[(&#x27;standardscaler&#x27;, StandardScaler()), (&#x27;svc&#x27;, SVC())])</pre><b>In a Jupyter environment, please rerun this cell to show the HTML representation or trust the notebook. <br />On GitHub, the HTML representation is unable to render, please try loading this page with nbviewer.org.</b></div><div class=\"sk-container\" hidden><div class=\"sk-item sk-dashed-wrapped\"><div class=\"sk-label-container\"><div class=\"sk-label sk-toggleable\"><input class=\"sk-toggleable__control sk-hidden--visually\" id=\"sk-estimator-id-1\" type=\"checkbox\" ><label for=\"sk-estimator-id-1\" class=\"sk-toggleable__label sk-toggleable__label-arrow\">Pipeline</label><div class=\"sk-toggleable__content\"><pre>Pipeline(steps=[(&#x27;standardscaler&#x27;, StandardScaler()), (&#x27;svc&#x27;, SVC())])</pre></div></div></div><div class=\"sk-serial\"><div class=\"sk-item\"><div class=\"sk-estimator sk-toggleable\"><input class=\"sk-toggleable__control sk-hidden--visually\" id=\"sk-estimator-id-2\" type=\"checkbox\" ><label for=\"sk-estimator-id-2\" class=\"sk-toggleable__label sk-toggleable__label-arrow\">StandardScaler</label><div class=\"sk-toggleable__content\"><pre>StandardScaler()</pre></div></div></div><div class=\"sk-item\"><div class=\"sk-estimator sk-toggleable\"><input class=\"sk-toggleable__control sk-hidden--visually\" id=\"sk-estimator-id-3\" type=\"checkbox\" ><label for=\"sk-estimator-id-3\" class=\"sk-toggleable__label sk-toggleable__label-arrow\">SVC</label><div class=\"sk-toggleable__content\"><pre>SVC()</pre></div></div></div></div></div></div></div>"
      ],
      "text/plain": [
       "Pipeline(steps=[('standardscaler', StandardScaler()), ('svc', SVC())])"
      ]
     },
     "execution_count": 6,
     "metadata": {},
     "output_type": "execute_result"
    }
   ],
   "source": [
    "clf = make_pipeline(StandardScaler(),\n",
    "                    SVC())\n",
    "\n",
    "clf.fit(x_train, y_train)"
   ]
  },
  {
   "cell_type": "code",
   "execution_count": 7,
   "metadata": {},
   "outputs": [
    {
     "data": {
      "text/plain": [
       "(1860,)"
      ]
     },
     "execution_count": 7,
     "metadata": {},
     "output_type": "execute_result"
    }
   ],
   "source": [
    "y_pred = clf.predict(x_test)\n",
    "y_pred.shape"
   ]
  },
  {
   "attachments": {},
   "cell_type": "markdown",
   "metadata": {},
   "source": [
    "The results matches perfectly with our expectation. Both models reaches an accuracy over 99.5%. In my expectation, both algorithms can be used for binary classification, and SVC should be a better choice because in image classification, there are usually high-dimensional feature spaces with complex decision boundaries."
   ]
  },
  {
   "cell_type": "code",
   "execution_count": 8,
   "metadata": {},
   "outputs": [
    {
     "data": {
      "text/plain": [
       "0.9951612903225806"
      ]
     },
     "execution_count": 8,
     "metadata": {},
     "output_type": "execute_result"
    }
   ],
   "source": [
    "accuracy = metrics.accuracy_score(y_test, y_pred)\n",
    "accuracy"
   ]
  },
  {
   "attachments": {},
   "cell_type": "markdown",
   "metadata": {},
   "source": [
    "The results of cross-validation with 5 folds also matchs our expectations. "
   ]
  },
  {
   "cell_type": "code",
   "execution_count": 9,
   "metadata": {},
   "outputs": [
    {
     "name": "stdout",
     "output_type": "stream",
     "text": [
      "[0.99462366 0.99014337 0.99641577 0.99641577 0.99283154]\n"
     ]
    }
   ],
   "source": [
    "scores = cross_val_score(clf, x_train, y_train, cv = 5)\n",
    "print(scores)"
   ]
  },
  {
   "cell_type": "markdown",
   "metadata": {},
   "source": [
    "## Tuning and Feature Extraction\n",
    "\n",
    "Add and describe code to perform Hyperparameter Tuning and Feature Extraction or PCA."
   ]
  },
  {
   "attachments": {},
   "cell_type": "markdown",
   "metadata": {},
   "source": [
    "In this section, I tuned certain hyperparameters of SVC models:\n",
    "\n",
    "C parameter: C is a regularization parameter that controls the trade-off between maximizing the margin and minimizing the classification error. A larger value of C results in a narrower margin and more classification errors on the training set, while a smaller value of C results in a wider margin and more classification errors on the test set.\n",
    "\n",
    "Kernel function: The choice of kernel function determines how the input data is mapped into a higher-dimensional space. Popular kernel functions include linear, polynomial, and radial basis function (RBF). Each kernel function has its own set of hyperparameters that can be tuned.\n",
    "\n",
    "Gamma parameter: Gamma is a hyperparameter that controls the shape of the RBF kernel. A larger value of gamma results in a more complex decision boundary and may lead to overfitting, while a smaller value of gamma results in a simpler decision boundary and may lead to underfitting."
   ]
  },
  {
   "cell_type": "code",
   "execution_count": null,
   "metadata": {},
   "outputs": [],
   "source": [
    "clf = make_pipeline(StandardScaler(),\n",
    "                    SVC(kernel='rbf', C=10, gamma=0.1))\n",
    "\n",
    "clf.fit(x_train, y_train)"
   ]
  },
  {
   "attachments": {},
   "cell_type": "markdown",
   "metadata": {},
   "source": [
    "For feature extraction, I first tested it with TF-IDF. It transforms a collection of raw text documents into a matrix of TF-IDF features, which can then be used as input to various machine learning algorithms such as classification, clustering, and information retrieval. Although TF-IDF is typically used for text input, the result does not make a significant change. The reason could be the limited amount of training data samples. With more and unseen testing data, the choice of feature extraction could make a large change."
   ]
  },
  {
   "cell_type": "code",
   "execution_count": null,
   "metadata": {},
   "outputs": [],
   "source": [
    "tfidf = TfidfVectorizer()\n",
    "\n",
    "X_train = tfidf.fit_transform(X_train)"
   ]
  },
  {
   "attachments": {},
   "cell_type": "markdown",
   "metadata": {},
   "source": [
    "Then I defined the pipeline for feature extraction with PCA, scaling, and classification, performed grid search with cross-validation to find the best hyperparameters"
   ]
  },
  {
   "cell_type": "code",
   "execution_count": null,
   "metadata": {},
   "outputs": [],
   "source": [
    "pipeline = Pipeline([\n",
    "    (\"pca\", PCA(n_components=50)),\n",
    "    (\"scaler\", StandardScaler()),\n",
    "    (\"clf\", SVC())\n",
    "])\n",
    "\n",
    "param_grid = {\n",
    "    \"pca__n_components\": [20, 50, 100],\n",
    "    \"clf__C\": [0.1, 1, 10],\n",
    "    \"clf__kernel\": [\"linear\", \"rbf\", \"poly\"]\n",
    "}\n",
    "\n",
    "grid_search = GridSearchCV(pipeline, param_grid=param_grid, cv=5)\n",
    "grid_search.fit(X_train.reshape(X_train.shape[0], -1), y_train)\n",
    "\n",
    "print(\"Best parameters:\", grid_search.best_params_)\n",
    "print(\"Best score:\", grid_search.best_score_)"
   ]
  },
  {
   "cell_type": "markdown",
   "metadata": {},
   "source": [
    "## Visuals\n",
    "\n",
    "Below, generate the visuals that will explain the results you are getting and show what you hoped to learn from the data."
   ]
  },
  {
   "attachments": {},
   "cell_type": "markdown",
   "metadata": {},
   "source": [
    "This is the confusion matrix output of the SVC model. There are 9 circles are prediced as triangles, and the other tests are all correct. SVC is proven to be a robust machine learning models for image classification, and for my initial goal, that identify circles and triangles, 995% accuracy is a reasonbale result.\n",
    "\n",
    "However, the models has not yet went through other images. With more complex images such as stars and diversed virus shapes, the accuracy of the model will be more important. "
   ]
  },
  {
   "cell_type": "code",
   "execution_count": 10,
   "metadata": {},
   "outputs": [
    {
     "data": {
      "text/plain": [
       "<sklearn.metrics._plot.confusion_matrix.ConfusionMatrixDisplay at 0x2536fa1d870>"
      ]
     },
     "execution_count": 10,
     "metadata": {},
     "output_type": "execute_result"
    },
    {
     "data": {
      "image/png": "[encoded data removed]",
      "text/plain": [
       "<Figure size 640x480 with 2 Axes>"
      ]
     },
     "metadata": {},
     "output_type": "display_data"
    }
   ],
   "source": [
    "cm = confusion_matrix(y_test, y_pred, labels=clf.classes_)\n",
    "disp = ConfusionMatrixDisplay(confusion_matrix=cm, display_labels=clf.classes_)\n",
    "disp.plot()"
   ]
  },
  {
   "cell_type": "code",
   "execution_count": 11,
   "metadata": {},
   "outputs": [
    {
     "data": {
      "text/plain": [
       "1"
      ]
     },
     "execution_count": 11,
     "metadata": {},
     "output_type": "execute_result"
    }
   ],
   "source": [
    "image = Image.open('test_c1.PNG')\n",
    "new_image = image.resize((200, 200))\n",
    "new_image.save('test_c1.PNG')\n",
    "\n",
    "\n",
    "test_file_name = 'test_t1.PNG'\n",
    "tep = io.imread(os.path.join(test_file_name), as_gray=True).reshape(1,-1)\n",
    "clf.predict(tep)[0]"
   ]
  },
  {
   "attachments": {},
   "cell_type": "markdown",
   "metadata": {},
   "source": [
    "## Refection\n",
    "\n",
    "1. What issues did you encounter when aquiring and cleaning the data? <br>\n",
    "The images are having different sizes and different colors, which means that each image has three parameters, heigh, width, and channels. The biggest issue is to organize them into the same size and convert them into an array.\n",
    "\n",
    "2. What features did you use in your final model and why were others excluded?<br>\n",
    "In the example I provided, I used PCA for feature extraction, which reduces the dimensionality of the image data while preserving the most important information. Specifically, I used the first 50 principal components as features for classification. PCA is a popular technique for feature extraction because it can effectively capture the variation in the data with fewer dimensions, which can help reduce overfitting and improve the model's generalization ability. In this case, I chose to use PCA to reduce the dimensionality of the image data while preserving the most important information.\n",
    "\n",
    "3. Which ML methods did you use and why? Which performed best before you started tuning? Did things change after tuning?<br>\n",
    "I used SVC and Perceptron to compare the results. SVC is typically efficient to handle high dimensional data, and perceptron is a type of neural network model that is used for binary classification tasks. Both of them reaches an accuracy above 99.5%. With tuning, the accuracy is slightly higher in both cases.\n",
    "\n",
    "4. What was your accuracy before and then after cross validation?<br>\n",
    "The mean accuracy after cross-validation with 5 folds for SVC model is 99.4%. It still matches our previous accuracy and expectation. Since the data is previously shuffled, cross-validation helps proven our accuracy to be correct and eliminate the possibilities of extreme cases.\n",
    "\n",
    "5. What was the most challenging part of this project?<br>\n",
    "Learning and understanding the effectiveness and logic behind each models is really challenging. Also, using python to do this is another part I am not familiar with initially."
   ]
  }
 ],
 "metadata": {
  "anaconda-cloud": {},
  "kernelspec": {
   "display_name": "Python 3.9.6 64-bit",
   "language": "python",
   "name": "python3"
  },
  "language_info": {
   "codemirror_mode": {
    "name": "ipython",
    "version": 3
   },
   "file_extension": ".py",
   "mimetype": "text/x-python",
   "name": "python",
   "nbconvert_exporter": "python",
   "pygments_lexer": "ipython3",
   "version": "3.10.0"
  },
  "vscode": {
   "interpreter": {
    "hash": "0333d40387376c9014aa4ff3a51f15c04ca086de5619d446c5c4e028c36297bf"
   }
  }
 },
 "nbformat": 4,
 "nbformat_minor": 1
}
